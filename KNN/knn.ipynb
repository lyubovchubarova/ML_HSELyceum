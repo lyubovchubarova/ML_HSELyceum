{
 "cells": [
  {
   "cell_type": "code",
   "execution_count": 1,
   "id": "b65f088f-4e4e-4742-91d8-3dfcffb38ef6",
   "metadata": {},
   "outputs": [],
   "source": [
    "import numpy as np\n",
    "from sklearn.preprocessing import OneHotEncoder\n",
    "import pandas as pd"
   ]
  },
  {
   "cell_type": "code",
   "execution_count": 127,
   "id": "51dc816d-0d7b-4804-bf2b-cb915739e9ce",
   "metadata": {},
   "outputs": [],
   "source": [
    "# d = 1000000\n",
    "\n",
    "# a = np.random.randn(d)\n",
    "# b = np.random.randn(d)\n",
    "\n",
    "# np.sqrt(np.sum((a - b)**2))"
   ]
  },
  {
   "cell_type": "code",
   "execution_count": 2,
   "id": "de8a549a-17be-47ff-b97f-f0a65ce35946",
   "metadata": {},
   "outputs": [],
   "source": [
    "df = pd.read_csv('https://raw.githubusercontent.com/obulygin/content/main/bank_churn/Churn.csv')"
   ]
  },
  {
   "cell_type": "code",
   "execution_count": 93,
   "id": "8d89812e-6ccd-4c7d-9a35-ef2add16f002",
   "metadata": {},
   "outputs": [],
   "source": [
    "dataset = [\n",
    "    {'text': 'Это отличный ресторан, всегда туда буду ходить. Очень вкусная еда', 'label': 'хороший'},\n",
    "    {'text': 'Это замечательный ресторан, хочу еще туда придти. Все было очень вкусно', 'label': 'хороший'},\n",
    "    {'text': 'Это классный ресторан, просто шикарный, буду туда еще ходить. Все было очень здорово', 'label': 'хороший'},\n",
    "    {'text': 'Это великолепный ресторан, приду туда еще. Еда пальчики оближешь', 'label': 'хороший'},\n",
    "    {'text': 'Шикарное место, приду еще, заведение огонь', 'label': 'хороший'},\n",
    "    \n",
    "    {'text': 'Заведение помойка, больше туда ни ногой, отвратительное обслуживание и блюда мерзкие', 'label': 'плохой'},\n",
    "    {'text': 'Место дно, нигода больше туда не пойду, было невкусно и долго готовили', 'label': 'плохой'},\n",
    "    {'text': 'Больше не приду, еда не понравилась, готовят долго, отстой', 'label': 'плохой'},\n",
    "    {'text': 'Официант нахамил и плюнул мне в тарелку, чтобы я еще туда зашел, никогда в жизни', 'label': 'плохой'},\n",
    "    {'text': 'Просто отвратительно, мне не понравилось', 'label': 'плохой'},\n",
    "]"
   ]
  },
  {
   "cell_type": "code",
   "execution_count": 97,
   "id": "4019360b-5c9b-4691-8657-9aa7df8dd014",
   "metadata": {},
   "outputs": [],
   "source": [
    "a = set(preprocess(dataset[0]['text']).split())\n",
    "b = set(preprocess(dataset[1]['text']).split())"
   ]
  },
  {
   "cell_type": "code",
   "execution_count": 101,
   "id": "63e2f83c-0ea4-4d2e-8060-f74ad45ce4ab",
   "metadata": {},
   "outputs": [
    {
     "data": {
      "text/plain": [
       "4"
      ]
     },
     "execution_count": 101,
     "metadata": {},
     "output_type": "execute_result"
    }
   ],
   "source": [
    "len(a & b)"
   ]
  },
  {
   "cell_type": "code",
   "execution_count": 100,
   "id": "c34ceb4c-1fb3-46af-ae86-0e03976f5aad",
   "metadata": {},
   "outputs": [
    {
     "data": {
      "text/plain": [
       "17"
      ]
     },
     "execution_count": 100,
     "metadata": {},
     "output_type": "execute_result"
    }
   ],
   "source": [
    "len(a | b)"
   ]
  },
  {
   "cell_type": "code",
   "execution_count": 111,
   "id": "82b7d98b-92d7-4eb8-869f-21912b6b5c06",
   "metadata": {},
   "outputs": [],
   "source": [
    "def preprocess(s):\n",
    "    return s.lower().replace(',', '').replace('.', '')\n",
    "\n",
    "def jaccard_dist(a, b):\n",
    "    a_set = set(preprocess(a).split())\n",
    "    b_set = set(preprocess(b).split())\n",
    "    iou = len(a_set & b_set) / len(a_set | b_set)\n",
    "    dist = 1 - iou\n",
    "    return dist\n",
    "\n",
    "def most_common(lst):\n",
    "    return max(set(lst), key=lst.count)"
   ]
  },
  {
   "cell_type": "code",
   "execution_count": 112,
   "id": "27edd94b-a00a-4669-891d-d3bf3ee8bd8a",
   "metadata": {},
   "outputs": [
    {
     "data": {
      "text/plain": [
       "1.0"
      ]
     },
     "execution_count": 112,
     "metadata": {},
     "output_type": "execute_result"
    }
   ],
   "source": [
    "jaccard_dist(dataset[1]['text'], dataset[9]['text'])"
   ]
  },
  {
   "cell_type": "code",
   "execution_count": 121,
   "id": "5c034ec4-808f-43c2-97b3-dfd7beb81adf",
   "metadata": {},
   "outputs": [],
   "source": [
    "class KNNClassifier:\n",
    "    def __init__(self, k):\n",
    "        self.k = k\n",
    "        \n",
    "    def fit(self, X, y):\n",
    "        self.X = X\n",
    "        self.y = y\n",
    "\n",
    "    def predict(self, x):\n",
    "        dists = []\n",
    "        for obj, label in zip(self.X, self.y):\n",
    "            dists.append({\n",
    "                'distance': jaccard_dist(obj, x), \n",
    "                'label': label\n",
    "            })\n",
    "        dists = sorted(dists, key=lambda x: x['distance'])\n",
    "        # print(dists)\n",
    "        k_labels = [d['label'] for d in dists[:self.k]]\n",
    "        # print(dists)\n",
    "        \n",
    "        answer = most_common(k_labels)\n",
    "        return answer"
   ]
  },
  {
   "cell_type": "code",
   "execution_count": 122,
   "id": "b8d626f6-45ff-40a2-a343-a446d8b932be",
   "metadata": {},
   "outputs": [],
   "source": [
    "knn = KNNClassifier(k=3)"
   ]
  },
  {
   "cell_type": "code",
   "execution_count": 123,
   "id": "4c886e76-5b75-44f5-a8b1-6eed14c01806",
   "metadata": {},
   "outputs": [],
   "source": [
    "texts = [d['text'] for d in dataset]\n",
    "labels = [d['label'] for d in dataset]\n",
    "knn.fit(X=texts, y=labels)"
   ]
  },
  {
   "cell_type": "code",
   "execution_count": 124,
   "id": "fe3b6279-2d7d-41fc-8ef6-a41fc403b8f7",
   "metadata": {},
   "outputs": [
    {
     "data": {
      "text/plain": [
       "'плохой'"
      ]
     },
     "execution_count": 124,
     "metadata": {},
     "output_type": "execute_result"
    }
   ],
   "source": [
    "knn.predict('Больше не приду, была невкусная еда')"
   ]
  },
  {
   "cell_type": "code",
   "execution_count": null,
   "id": "314bab32-7166-4607-8331-efde9498efc1",
   "metadata": {},
   "outputs": [],
   "source": []
  }
 ],
 "metadata": {
  "kernelspec": {
   "display_name": "base",
   "language": "python",
   "name": "python3"
  },
  "language_info": {
   "codemirror_mode": {
    "name": "ipython",
    "version": 3
   },
   "file_extension": ".py",
   "mimetype": "text/x-python",
   "name": "python",
   "nbconvert_exporter": "python",
   "pygments_lexer": "ipython3",
   "version": "3.12.7"
  }
 },
 "nbformat": 4,
 "nbformat_minor": 5
}
