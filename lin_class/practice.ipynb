{
 "cells": [
  {
   "cell_type": "markdown",
   "metadata": {},
   "source": [
    "### Практикум: Линейная классификация\n",
    "\n",
    "Датасет: Heart Disease UCI (303 наблюдения, 13 признаков, бинарная классификация).\n",
    "Цель: Предсказать наличие сердечного заболевания (целевой признак target: 0 = здоров, 1 = болен)."
   ]
  },
  {
   "cell_type": "markdown",
   "metadata": {},
   "source": [
    "#### Шаг 1: Загрузка и первичный анализ данных"
   ]
  },
  {
   "cell_type": "code",
   "execution_count": 1,
   "metadata": {},
   "outputs": [],
   "source": [
    "import pandas as pd\n",
    "import matplotlib.pyplot as plt\n",
    "import numpy as np\n",
    "\n",
    "# Загрузите данные\n",
    "url = \"https://archive.ics.uci.edu/ml/machine-learning-databases/heart-disease/processed.cleveland.data\"\n",
    "df = pd.read_csv(url, header=None)\n",
    "df.columns = [\n",
    "    'age', 'sex', 'cp', 'trestbps', 'chol', 'fbs', 'restecg',\n",
    "    'thalach', 'exang', 'oldpeak', 'slope', 'ca', 'thal', 'target'\n",
    "]"
   ]
  },
  {
   "cell_type": "markdown",
   "metadata": {},
   "source": [
    "0. Найдите, что обозначает, каждый признак (в смысле поищите описание датасета в Интернете)\n",
    "1. Выведите первые 5 строк.\n",
    "2. Проверьте пропуски (например, есть ли '?' в данных).\n",
    "3. Постройте гистограмму возраста и распределение целевого признака."
   ]
  },
  {
   "cell_type": "code",
   "execution_count": null,
   "metadata": {},
   "outputs": [],
   "source": [
    "# <Ваш код здесь>"
   ]
  },
  {
   "cell_type": "markdown",
   "metadata": {},
   "source": [
    "#### Шаг 2: Предобработка данных\n",
    "\n",
    "Задания:\n",
    "\n",
    "- Замените пропуски (строки с '?') в колонках ca и thal на медианные значения.\n",
    "- Преобразуйте категориальные признаки (например, cp – тип боли в груди) в one-hot encoding.\n",
    "- Нормализуйте числовые признаки (например, trestbps, chol)."
   ]
  },
  {
   "cell_type": "code",
   "execution_count": null,
   "metadata": {},
   "outputs": [],
   "source": [
    "from sklearn.preprocessing import StandardScaler\n",
    "\n",
    "# Пример для замены пропусков\n",
    "df['ca'] = pd.to_numeric(df['ca'], errors='coerce')\n",
    "df['ca'].fillna(df['ca'].median(), inplace=True)\n",
    "\n",
    "# Ваш код:\n",
    "# 1. Обработайте колонку 'thal'.\n",
    "# 2. Преобразуйте категориальные признаки.\n",
    "# 3. Нормализуйте данные.\n",
    "# <Ваш код>"
   ]
  },
  {
   "cell_type": "markdown",
   "metadata": {},
   "source": [
    "#### Шаг 3: Конструирование признаков\n",
    "Придумайте 2 новых признака на основе существующих. Например:\n",
    "- `age_chol_ratio` = возраст / уровень холестерина\n",
    "- `blood_pressure_category` (категория на основе `trestbps`)"
   ]
  },
  {
   "cell_type": "code",
   "execution_count": null,
   "metadata": {},
   "outputs": [],
   "source": [
    "# Пример:\n",
    "df['age_chol_ratio'] = df['age'] / df['chol']\n",
    "\n",
    "# Ваш код: добавьте 1-2 своих признака\n",
    "# <Ваш код>"
   ]
  },
  {
   "cell_type": "markdown",
   "metadata": {},
   "source": [
    "#### Шаг 4: Обучение линейного классификатора"
   ]
  },
  {
   "cell_type": "code",
   "execution_count": null,
   "metadata": {},
   "outputs": [],
   "source": [
    "from sklearn.linear_model import LogisticRegression\n",
    "from sklearn.model_selection import train_test_split\n",
    "\n",
    "# Разделите данные на X (все признаки) и y (target)\n",
    "X = df.drop('target', axis=1)\n",
    "y = (df['target'] > 0).astype(int)  # Преобразуем в бинарную задачу\n",
    "\n",
    "# Разделите на train/test\n",
    "\n",
    "# Обучите модель\n",
    "\n",
    "# Оцените метрики"
   ]
  },
  {
   "cell_type": "markdown",
   "metadata": {},
   "source": [
    "#### Шаг 5: Визуализация разделяющей плоскости\n",
    "Для многомерных данных используем **PCA** (principal component analysis, метод главных компонент - преобразование, позволяющее перевести данные из многомерного пространства, не теряя информацию), чтобы спроецировать данные на 2D.\n",
    "\n",
    "Вам дан готовый код, давайте посмотрим что получится"
   ]
  },
  {
   "cell_type": "code",
   "execution_count": null,
   "metadata": {},
   "outputs": [],
   "source": [
    "from sklearn.decomposition import PCA\n",
    "\n",
    "# Применяем PCA\n",
    "pca = PCA(n_components=2)\n",
    "X_pca = pca.fit_transform(X_train)\n",
    "\n",
    "# Обучаем модель на PCA-признаках\n",
    "model_pca = LogisticRegression()\n",
    "model_pca.fit(X_pca, y_train)\n",
    "\n",
    "# Строим разделяющую плоскость\n",
    "xx, yy = np.meshgrid(np.linspace(-5, 5, 100), np.linspace(-5, 5, 100))\n",
    "Z = model_pca.predict(np.c_[xx.ravel(), yy.ravel()]).reshape(xx.shape)\n",
    "\n",
    "plt.contourf(xx, yy, Z, alpha=0.3)\n",
    "plt.scatter(X_pca[:,0], X_pca[:,1], c=y_train, edgecolors='k')\n",
    "plt.title(\"Разделяющая плоскость в PCA-пространстве\")\n",
    "plt.show()"
   ]
  },
  {
   "cell_type": "markdown",
   "metadata": {},
   "source": [
    "#### Шаг 6: Эксперименты и выводы\n",
    "**Задания:**\n",
    "1. Измените параметр регуляризации `C` в LogisticRegression. Как изменилась граница?\n",
    "2. Уберите созданные вами новые признаки. Повлияло ли это на метрики?\n",
    "3. *Сложное:* Постройте график коэффициентов модели (`model.coef_`). Какие признаки самые важные?\n"
   ]
  },
  {
   "cell_type": "code",
   "execution_count": null,
   "metadata": {},
   "outputs": [],
   "source": [
    "# Пример для анализа коэффициентов\n",
    "coef = pd.DataFrame({'feature': X.columns, 'weight': model.coef_[0]})\n",
    "coef.sort_values(by='weight', ascending=False, inplace=True)\n",
    "plt.barh(coef['feature'], coef['weight'])\n",
    "plt.title(\"Важность признаков\")\n",
    "plt.show()"
   ]
  }
 ],
 "metadata": {
  "kernelspec": {
   "display_name": "base",
   "language": "python",
   "name": "python3"
  },
  "language_info": {
   "codemirror_mode": {
    "name": "ipython",
    "version": 3
   },
   "file_extension": ".py",
   "mimetype": "text/x-python",
   "name": "python",
   "nbconvert_exporter": "python",
   "pygments_lexer": "ipython3",
   "version": "3.12.7"
  }
 },
 "nbformat": 4,
 "nbformat_minor": 2
}
